{
 "cells": [
  {
   "cell_type": "markdown",
   "metadata": {},
   "source": [
    "# Matlab 用户注意"
   ]
  },
  {
   "cell_type": "markdown",
   "metadata": {},
   "source": [
    "## 介绍"
   ]
  },
  {
   "cell_type": "markdown",
   "metadata": {},
   "source": [
    "Matlab 与 NumPy 有许多相同点，也有许多不同。这篇文章将详细介绍它们之间的异同。"
   ]
  },
  {
   "cell_type": "markdown",
   "metadata": {},
   "source": [
    "## 一些关键的不同"
   ]
  },
  {
   "cell_type": "markdown",
   "metadata": {},
   "source": [
    "Matlab | NumPy\n",
    "--------|--------\n",
    "在 Matlab 中，基础数据类型为双精度浮点型矩阵。输入矩阵的表达式结果仍为矩阵。对它的操作默认为矩阵运算。|在 NumPy 中，基础数据类型为多维数组，对于这些数组的操作，默认对每一个元素使用。然而，NumPy 中有一种特别的 <kbd>matrix</kbd> 类型，它只是数组的子类。对于 martix 的操作为矩阵运算。\n",
    "Matlab 索引初始值为 1 。矩阵中第一个元素为 a(1) | Python 索引初始值为 0 。数组中第一个元素为 a[0]。\n",
    "Matlab 的脚本语言是用来做线性代数运算的。表达式用来做矩阵操作时简介好用，但它的 api 十分复杂。 | NumPy 基于 Python，它可以做许多 Matlab 做不了的事。\n",
    "在 Matlab 中，矩阵复制时采用值传递。 | 在 NumPy 中，数组复制时采用引用传递。"
   ]
  },
  {
   "cell_type": "markdown",
   "metadata": {},
   "source": [
    "## 数组还是矩阵？我应该用哪一个？"
   ]
  },
  {
   "cell_type": "markdown",
   "metadata": {},
   "source": [
    "### 简短的回答"
   ]
  },
  {
   "cell_type": "markdown",
   "metadata": {},
   "source": [
    "**使用数组**\n",
    "* 数组是 NumPy 中标准的向量、矩阵、张量类型。许多 NumPy 函数返回数组，而不是矩阵\n",
    "* 逐元素操作与矩阵操作之间有清晰的区别。\n",
    "* 你可以用数组来使用标准的向量。"
   ]
  },
  {
   "cell_type": "markdown",
   "metadata": {},
   "source": [
    "使用数组的唯一缺点是：你需要用 <kbd>dot</kbd> 来替代 <kbd>*</kbd> 来实现矩阵乘法。"
   ]
  },
  {
   "cell_type": "markdown",
   "metadata": {},
   "source": [
    "### 详细的回答"
   ]
  },
  {
   "cell_type": "markdown",
   "metadata": {},
   "source": [
    "NumPy 含有 <kbd>array</kbd> 和 <kbd>matrix</kbd> 两个类。<kbd>array</kbd> 类倾向于进行大量的数学运算，<kbd>matrix</kbd> 倾向于矩阵运算。在实际使用中，它们之间只有少数区别："
   ]
  },
  {
   "cell_type": "markdown",
   "metadata": {},
   "source": [
    "* <kbd>\\*</kbd>, <kbd>dot</kbd>, <kbd>multiply()</kbd> 操作符：\n",
    "    * 对于 <kbd>array</kbd> '*' 意味着每个元素相乘，<kbd>dot</kbd> 函数用于实现矩阵相乘\n",
    "    * 对于 <kbd>matrix</kbd> '*' 意味着矩阵相乘，<kbd>multiply()</kbd> 用于实现每个元素相乘\n",
    "* 向量操作\n",
    "    * 对于 <kbd>array</kbd> 1xN,Nx1 和 N 向量均不相同。 <kbd>A[:,1]</kbd> 产生一个 形状为 N 的向量，而不是 Nx1 的二维向量。\n",
    "    * 对于 <kbd>matrix</kbd> 一维矩阵只有 1xN 和 Nx1 两种（行向量与列向量）。<kbd>A[:,1]</kbd> 返回一个二维矩阵 Nx1。\n",
    "* 处理二位数组\n",
    "    * <kbd>array</kbd> 对象可以有超过二的维数。\n",
    "    * <kbd>matrix</kbd> 对象至少有两个维度。\n",
    "* 变量\n",
    "    * <kbd>array</kbd> 有 .T 变量，返回数组的转置。\n",
    "    * <kbd>matrix</kbd> 有 .H, .I 和 .A 变量，返回转置，逆矩阵和转换为数组的值。\n",
    "* 构造器\n",
    "    * <kbd>array</kbd> 构造器传入 Python 列表。\n",
    "    * <kbd>matrix</kbd> 构造器传入一个字符串。"
   ]
  },
  {
   "cell_type": "markdown",
   "metadata": {},
   "source": []
  }
 ],
 "metadata": {
  "kernelspec": {
   "display_name": "Python 3",
   "language": "python",
   "name": "python3"
  },
  "language_info": {
   "codemirror_mode": {
    "name": "ipython",
    "version": 3
   },
   "file_extension": ".py",
   "mimetype": "text/x-python",
   "name": "python",
   "nbconvert_exporter": "python",
   "pygments_lexer": "ipython3",
   "version": "3.5.2"
  }
 },
 "nbformat": 4,
 "nbformat_minor": 2
}
