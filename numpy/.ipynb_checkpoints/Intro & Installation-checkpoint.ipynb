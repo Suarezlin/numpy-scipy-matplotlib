{
 "cells": [
  {
   "cell_type": "markdown",
   "metadata": {},
   "source": [
    "# 简介与安装"
   ]
  },
  {
   "cell_type": "markdown",
   "metadata": {},
   "source": [
    "## 什么是 NumPy"
   ]
  },
  {
   "cell_type": "markdown",
   "metadata": {},
   "source": [
    "NumPy 是一个用于科学计算的 Python 基础库。它提供了许多常用计算对象（数组、矩阵）。"
   ]
  },
  {
   "cell_type": "markdown",
   "metadata": {},
   "source": [
    "NumPy 库的核心是** ndarray ** 对象，以下是 NumPy 中的数组与 Python 自带数组的区别："
   ]
  },
  {
   "cell_type": "markdown",
   "metadata": {},
   "source": [
    "* NumPy 数组在创建时有一个固定的大小，不像 Python 列表可以自动增长。改变 NumPy 数组的大小，会创建一个新数组，并删除原来的数组。\n",
    "* NumPy 数组中的元素都必须是同样的数据类型，在内存中也有着相同的大小\n",
    "* NumPy 数组可以提高大规模数学运算时的速度与精确度"
   ]
  },
  {
   "cell_type": "markdown",
   "metadata": {},
   "source": [
    "## 安装 NumPy"
   ]
  },
  {
   "cell_type": "markdown",
   "metadata": {},
   "source": [
    "### 科学计算 Python 发行版"
   ]
  },
  {
   "cell_type": "markdown",
   "metadata": {},
   "source": [
    "对于大部分用户来说，安装 NumPy 最简单的方法是下载一个 Python 发行版。常用发行版如下："
   ]
  },
  {
   "cell_type": "markdown",
   "metadata": {},
   "source": [
    "* [Anaconda](https://www.continuum.io/downloads) 一个免费科学计算发行版，支持 Linux,Windows 和 Mac。"
   ]
  },
  {
   "cell_type": "markdown",
   "metadata": {
    "collapsed": true
   },
   "source": [
    "* [Enthought Canopy](https://www.enthought.com/products/canopy/) 免费版与商业版中均包括科学计算包，支持 Linux,Windows 和 Mac。"
   ]
  },
  {
   "cell_type": "markdown",
   "metadata": {},
   "source": [
    "* [Python(x,y)](http://python-xy.github.io/) 一个免费科学计算发行版，仅支持 Windows"
   ]
  },
  {
   "cell_type": "markdown",
   "metadata": {},
   "source": [
    "* [WinPython](http://winpython.github.io/) 一个免费科学计算发行版，仅支持 Windows"
   ]
  },
  {
   "cell_type": "markdown",
   "metadata": {},
   "source": [
    "* [Pyzo](http://www.pyzo.org/) 一个免费科学计算发行版,基于 Anaconda 和 IEP 交互式开发环境。支持 Linux,Windows 和 Mac。"
   ]
  },
  {
   "cell_type": "markdown",
   "metadata": {},
   "source": [
    "### 通过 pip 来安装"
   ]
  },
  {
   "cell_type": "markdown",
   "metadata": {},
   "source": [
    "Mac 和 Linux 用户可以通过 pip 来安装科学计算包。"
   ]
  },
  {
   "cell_type": "markdown",
   "metadata": {},
   "source": [
    "为了在 Mac 和 Linux 上利用 pip 来安装，首先需要升级 pip 到最新版："
   ]
  },
  {
   "cell_type": "markdown",
   "metadata": {},
   "source": [
    "   <pre>python -m pip install --upgrade pip</pre>"
   ]
  },
  {
   "cell_type": "markdown",
   "metadata": {},
   "source": [
    "随后使用 pip 来安装 NumPy，Python2 安装："
   ]
  },
  {
   "cell_type": "markdown",
   "metadata": {},
   "source": [
    "<pre>pip install numpy</pre>"
   ]
  },
  {
   "cell_type": "markdown",
   "metadata": {},
   "source": [
    "Python3 安装："
   ]
  },
  {
   "cell_type": "markdown",
   "metadata": {},
   "source": [
    "<pre>pip3 install numpy</pre>"
   ]
  },
  {
   "cell_type": "code",
   "execution_count": null,
   "metadata": {
    "collapsed": true
   },
   "outputs": [],
   "source": []
  }
 ],
 "metadata": {
  "kernelspec": {
   "display_name": "Python 3",
   "language": "python",
   "name": "python3"
  },
  "language_info": {
   "codemirror_mode": {
    "name": "ipython",
    "version": 3
   },
   "file_extension": ".py",
   "mimetype": "text/x-python",
   "name": "python",
   "nbconvert_exporter": "python",
   "pygments_lexer": "ipython3",
   "version": "3.5.2"
  }
 },
 "nbformat": 4,
 "nbformat_minor": 2
}
